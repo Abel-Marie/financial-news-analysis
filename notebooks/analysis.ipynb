{
 "cells": [
  {
   "cell_type": "markdown",
   "metadata": {},
   "source": [
    "# Importing necessary libraries"
   ]
  },
  {
   "cell_type": "code",
   "execution_count": 3,
   "metadata": {},
   "outputs": [],
   "source": [
    "# for data manipulation\n",
    "import pandas as pd\n",
    "\n",
    "# For visualization\n",
    "#import matplotlib.pyplot as pyplot\n",
    "#import seaborn as sns\n",
    "\n",
    "# for date/time manipulationimport datetime\n",
    "\n",
    "#fot nlp\n",
    "import nltk\n",
    "from nltk.sentiment import SentimentIntensityAnalyzer\n",
    "from nltk.tokenize import word_tokenize\n",
    "from nltk.corpus import stopwords\n",
    "from nltk.stem import PorterStemmer\n",
    "\n",
    "# for numerical analysis\n",
    "import numpy"
   ]
  },
  {
   "cell_type": "markdown",
   "metadata": {},
   "source": [
    "Loading Data"
   ]
  },
  {
   "cell_type": "code",
   "execution_count": 10,
   "metadata": {},
   "outputs": [
    {
     "name": "stdout",
     "output_type": "stream",
     "text": [
      "Loading raw analyst ratings from: C:\\Users\\HP\\Desktop\\week - 1\\Data\\raw_analyst_ratings\\raw_analyst_ratings.csv\n",
      "Loaded stock data keys: dict_keys([])\n",
      "\n",
      "Raw Analyst Ratings DataFrame Info:\n",
      "<class 'pandas.core.frame.DataFrame'>\n",
      "RangeIndex: 1407328 entries, 0 to 1407327\n",
      "Data columns (total 6 columns):\n",
      " #   Column      Non-Null Count    Dtype \n",
      "---  ------      --------------    ----- \n",
      " 0   Unnamed: 0  1407328 non-null  int64 \n",
      " 1   headline    1407328 non-null  object\n",
      " 2   url         1407328 non-null  object\n",
      " 3   publisher   1407328 non-null  object\n",
      " 4   date        1407328 non-null  object\n",
      " 5   stock       1407328 non-null  object\n",
      "dtypes: int64(1), object(5)\n",
      "memory usage: 64.4+ MB\n",
      "None\n",
      "\n",
      "Raw Analyst Ratings Shape:\n",
      "(1407328, 6)\n",
      "\n",
      "First few rows of Raw Analyst Ratings:\n",
      "   Unnamed: 0                                           headline  \\\n",
      "0           0            Stocks That Hit 52-Week Highs On Friday   \n",
      "1           1         Stocks That Hit 52-Week Highs On Wednesday   \n",
      "2           2                      71 Biggest Movers From Friday   \n",
      "3           3       46 Stocks Moving In Friday's Mid-Day Session   \n",
      "4           4  B of A Securities Maintains Neutral on Agilent...   \n",
      "\n",
      "                                                 url          publisher  \\\n",
      "0  https://www.benzinga.com/news/20/06/16190091/s...  Benzinga Insights   \n",
      "1  https://www.benzinga.com/news/20/06/16170189/s...  Benzinga Insights   \n",
      "2  https://www.benzinga.com/news/20/05/16103463/7...         Lisa Levin   \n",
      "3  https://www.benzinga.com/news/20/05/16095921/4...         Lisa Levin   \n",
      "4  https://www.benzinga.com/news/20/05/16095304/b...         Vick Meyer   \n",
      "\n",
      "                        date stock  \n",
      "0  2020-06-05 10:30:54-04:00     A  \n",
      "1  2020-06-03 10:45:20-04:00     A  \n",
      "2  2020-05-26 04:30:07-04:00     A  \n",
      "3  2020-05-22 12:45:06-04:00     A  \n",
      "4  2020-05-22 11:38:59-04:00     A  \n"
     ]
    }
   ],
   "source": [
    "import os\n",
    "import pandas as pd\n",
    "\n",
    "def load_data():\n",
    "    \"\"\"\n",
    "    Load all data files from the 'yfinance_data' and 'raw_analyst_ratings' folders.\n",
    "    \n",
    "    Returns:\n",
    "        stock_data (dict): A dictionary containing stock data DataFrames.\n",
    "        raw_analyst_ratings (pd.DataFrame): DataFrame containing raw analyst ratings.\n",
    "    \"\"\"\n",
    "    # Define the paths\n",
    "    yfinance_folder = r'C:\\Users\\HP\\Desktop\\week - 1\\Data\\yfinance_data'\n",
    "    analyst_ratings_file = r'C:\\Users\\HP\\Desktop\\week - 1\\Data\\raw_analyst_ratings\\raw_analyst_ratings.csv'\n",
    "    \n",
    "    # Initialize a dictionary to store stock DataFrames\n",
    "    stock_data = {}\n",
    "    raw_analyst_ratings = None\n",
    "    \n",
    "    # Load yfinance data files\n",
    "    if os.path.exists(yfinance_folder):\n",
    "        yfinance_files = [f for f in os.listdir(yfinance_folder) if f.endswith('.csv')]\n",
    "        for file in yfinance_files:\n",
    "            file_path = os.path.join(yfinance_folder, file)\n",
    "            stock_name = os.path.splitext(file)[0]  # Extract stock name without extension\n",
    "            print(f\"Loading file: {file} as stock: {stock_name}\")\n",
    "            stock_data[stock_name] = pd.read_csv(file_path)\n",
    "    \n",
    "    # Load raw analyst ratings file\n",
    "    if os.path.exists(analyst_ratings_file):\n",
    "        print(f\"Loading raw analyst ratings from: {analyst_ratings_file}\")\n",
    "        raw_analyst_ratings = pd.read_csv(analyst_ratings_file)\n",
    "    \n",
    "    return stock_data, raw_analyst_ratings\n",
    "\n",
    "# Call the function to load the data\n",
    "stock_data, raw_analyst_ratings = load_data()\n",
    "\n",
    "# Debug: Print available stock data keys\n",
    "print(\"Loaded stock data keys:\", stock_data.keys())\n",
    "\n",
    "# Access and check raw analyst ratings\n",
    "if raw_analyst_ratings is not None:\n",
    "    print(\"\\nRaw Analyst Ratings DataFrame Info:\")\n",
    "    print(raw_analyst_ratings.info())\n",
    "\n",
    "    print(\"\\nRaw Analyst Ratings Shape:\")\n",
    "    print(raw_analyst_ratings.shape)\n",
    "\n",
    "    print(\"\\nFirst few rows of Raw Analyst Ratings:\")\n",
    "    print(raw_analyst_ratings.head())\n"
   ]
  },
  {
   "cell_type": "markdown",
   "metadata": {},
   "source": [
    "# EDA"
   ]
  },
  {
   "cell_type": "markdown",
   "metadata": {},
   "source": [
    "## Descriptive Statistics"
   ]
  },
  {
   "cell_type": "code",
   "execution_count": 11,
   "metadata": {},
   "outputs": [
    {
     "name": "stdout",
     "output_type": "stream",
     "text": [
      "DataFrame Info:\n",
      "<class 'pandas.core.frame.DataFrame'>\n",
      "RangeIndex: 1407328 entries, 0 to 1407327\n",
      "Data columns (total 6 columns):\n",
      " #   Column      Non-Null Count    Dtype \n",
      "---  ------      --------------    ----- \n",
      " 0   Unnamed: 0  1407328 non-null  int64 \n",
      " 1   headline    1407328 non-null  object\n",
      " 2   url         1407328 non-null  object\n",
      " 3   publisher   1407328 non-null  object\n",
      " 4   date        1407328 non-null  object\n",
      " 5   stock       1407328 non-null  object\n",
      "dtypes: int64(1), object(5)\n",
      "memory usage: 64.4+ MB\n"
     ]
    }
   ],
   "source": [
    "# Check basic information about the DataFrame\n",
    "print(\"DataFrame Info:\")\n",
    "raw_analyst_ratings.info()"
   ]
  },
  {
   "cell_type": "code",
   "execution_count": 12,
   "metadata": {},
   "outputs": [
    {
     "name": "stdout",
     "output_type": "stream",
     "text": [
      "\n",
      "Null Values per Column:\n",
      "Unnamed: 0    0\n",
      "headline      0\n",
      "url           0\n",
      "publisher     0\n",
      "date          0\n",
      "stock         0\n",
      "dtype: int64\n"
     ]
    }
   ],
   "source": [
    "# Check for null values\n",
    "print(\"\\nNull Values per Column:\")\n",
    "print(raw_analyst_ratings.isnull().sum())"
   ]
  },
  {
   "cell_type": "markdown",
   "metadata": {},
   "source": [
    "Let's drop Unnamed: 0 column"
   ]
  },
  {
   "cell_type": "code",
   "execution_count": 13,
   "metadata": {},
   "outputs": [],
   "source": [
    "raw_analyst_ratings = raw_analyst_ratings.drop(columns=['Unnamed: 0'])\n"
   ]
  },
  {
   "cell_type": "code",
   "execution_count": 14,
   "metadata": {},
   "outputs": [
    {
     "name": "stdout",
     "output_type": "stream",
     "text": [
      "DataFrame Info:\n",
      "<class 'pandas.core.frame.DataFrame'>\n",
      "RangeIndex: 1407328 entries, 0 to 1407327\n",
      "Data columns (total 5 columns):\n",
      " #   Column     Non-Null Count    Dtype \n",
      "---  ------     --------------    ----- \n",
      " 0   headline   1407328 non-null  object\n",
      " 1   url        1407328 non-null  object\n",
      " 2   publisher  1407328 non-null  object\n",
      " 3   date       1407328 non-null  object\n",
      " 4   stock      1407328 non-null  object\n",
      "dtypes: object(5)\n",
      "memory usage: 53.7+ MB\n"
     ]
    }
   ],
   "source": [
    "print(\"DataFrame Info:\")\n",
    "raw_analyst_ratings.info()"
   ]
  },
  {
   "cell_type": "markdown",
   "metadata": {},
   "source": [
    "### Text Length Analysi:"
   ]
  },
  {
   "cell_type": "code",
   "execution_count": 15,
   "metadata": {},
   "outputs": [
    {
     "name": "stdout",
     "output_type": "stream",
     "text": [
      "\n",
      "Headline Length Statistics:\n",
      "count    1.407328e+06\n",
      "mean     7.312051e+01\n",
      "std      4.073531e+01\n",
      "min      3.000000e+00\n",
      "25%      4.700000e+01\n",
      "50%      6.400000e+01\n",
      "75%      8.700000e+01\n",
      "max      5.120000e+02\n",
      "Name: headline_length, dtype: float64\n"
     ]
    }
   ],
   "source": [
    "# Calculate basic statistics for headline length\n",
    "raw_analyst_ratings['headline_length'] = raw_analyst_ratings['headline'].apply(len)\n",
    "print(\"\\nHeadline Length Statistics:\")\n",
    "print(raw_analyst_ratings['headline_length'].describe())\n"
   ]
  },
  {
   "cell_type": "markdown",
   "metadata": {},
   "source": [
    "### Publisher Frequency"
   ]
  },
  {
   "cell_type": "code",
   "execution_count": 16,
   "metadata": {},
   "outputs": [
    {
     "name": "stdout",
     "output_type": "stream",
     "text": [
      "\n",
      "Top Publishers by Article Count:\n",
      "publisher\n",
      "Paul Quintaro        228373\n",
      "Lisa Levin           186979\n",
      "Benzinga Newsdesk    150484\n",
      "Charles Gross         96732\n",
      "Monica Gerson         82380\n",
      "Eddie Staley          57254\n",
      "Hal Lindon            49047\n",
      "ETF Professor         28489\n",
      "Juan Lopez            28438\n",
      "Benzinga Staff        28114\n",
      "Name: count, dtype: int64\n"
     ]
    }
   ],
   "source": [
    "# Count the number of articles per publisher\n",
    "publisher_counts = raw_analyst_ratings['publisher'].value_counts()\n",
    "print(\"\\nTop Publishers by Article Count:\")\n",
    "print(publisher_counts.head(10))"
   ]
  },
  {
   "cell_type": "markdown",
   "metadata": {},
   "source": [
    "### Publication Date Analysis"
   ]
  },
  {
   "cell_type": "code",
   "execution_count": null,
   "metadata": {},
   "outputs": [],
   "source": []
  },
  {
   "cell_type": "markdown",
   "metadata": {},
   "source": [
    "## Text Analysis (Sentiment Analysis)"
   ]
  },
  {
   "cell_type": "markdown",
   "metadata": {},
   "source": [
    "we perform `sentiment analysis` on financial news headlines using **VADER (Valance Aware Dictionary anssEntiment Reasoner)** sentiment analysis tool."
   ]
  },
  {
   "cell_type": "code",
   "execution_count": 17,
   "metadata": {},
   "outputs": [
    {
     "name": "stdout",
     "output_type": "stream",
     "text": [
      "\n",
      "Sentiment Category Counts:\n",
      "sentiment_category\n",
      "Neutral     739338\n",
      "Positive    442930\n",
      "Negative    225060\n",
      "Name: count, dtype: int64\n"
     ]
    }
   ],
   "source": [
    "from vaderSentiment.vaderSentiment import SentimentIntensityAnalyzer\n",
    "\n",
    "# Initialize the VADER sentiment analyzer\n",
    "analyzer = SentimentIntensityAnalyzer()\n",
    "\n",
    "# Apply sentiment analysis to the headlines\n",
    "raw_analyst_ratings['sentiment_score'] = raw_analyst_ratings['headline'].apply(lambda x: analyzer.polarity_scores(x)['compound'])\n",
    "\n",
    "# Categorize sentiment as Positive, Negative, or Neutral\n",
    "raw_analyst_ratings['sentiment_category'] = raw_analyst_ratings['sentiment_score'].apply(\n",
    "    lambda score: 'Positive' if score > 0.05 else ('Negative' if score < -0.05 else 'Neutral')\n",
    ")\n",
    "\n",
    "# Display sentiment statistics\n",
    "print(\"\\nSentiment Category Counts:\")\n",
    "print(raw_analyst_ratings['sentiment_category'].value_counts())\n"
   ]
  },
  {
   "cell_type": "markdown",
   "metadata": {},
   "source": [
    "## Time Series Analysis"
   ]
  },
  {
   "cell_type": "code",
   "execution_count": 19,
   "metadata": {},
   "outputs": [
    {
     "name": "stdout",
     "output_type": "stream",
     "text": [
      "0     2020-06-05 10:30:54-04:00\n",
      "1     2020-06-03 10:45:20-04:00\n",
      "2     2020-05-26 04:30:07-04:00\n",
      "3     2020-05-22 12:45:06-04:00\n",
      "4     2020-05-22 11:38:59-04:00\n",
      "5     2020-05-22 11:23:25-04:00\n",
      "6     2020-05-22 09:36:20-04:00\n",
      "7     2020-05-22 09:07:04-04:00\n",
      "8     2020-05-22 08:37:59-04:00\n",
      "9     2020-05-22 08:06:17-04:00\n",
      "10          2020-05-22 00:00:00\n",
      "11          2020-05-22 00:00:00\n",
      "12          2020-05-21 00:00:00\n",
      "13          2020-05-21 00:00:00\n",
      "14          2020-05-21 00:00:00\n",
      "15          2020-05-21 00:00:00\n",
      "16          2020-05-18 00:00:00\n",
      "17          2020-05-16 00:00:00\n",
      "18          2020-05-15 00:00:00\n",
      "19          2020-05-08 00:00:00\n",
      "Name: date, dtype: object\n"
     ]
    }
   ],
   "source": [
    "print(raw_analyst_ratings['date'].head(20))\n"
   ]
  },
  {
   "cell_type": "code",
   "execution_count": 20,
   "metadata": {},
   "outputs": [],
   "source": [
    "# Convert 'date' column to datetime format\n",
    "raw_analyst_ratings['date'] = pd.to_datetime(\n",
    "    raw_analyst_ratings['date'], \n",
    "    format=\"%Y-%m-%d %H:%M:%S\", \n",
    "    errors=\"coerce\"\n",
    ")\n"
   ]
  },
  {
   "cell_type": "code",
   "execution_count": 21,
   "metadata": {},
   "outputs": [
    {
     "name": "stdout",
     "output_type": "stream",
     "text": [
      "Number of invalid dates: 55987\n"
     ]
    }
   ],
   "source": [
    "invalid_dates = raw_analyst_ratings[raw_analyst_ratings['date'].isna()]\n",
    "print(f\"Number of invalid dates: {len(invalid_dates)}\")\n"
   ]
  },
  {
   "cell_type": "code",
   "execution_count": 22,
   "metadata": {},
   "outputs": [
    {
     "name": "stdout",
     "output_type": "stream",
     "text": [
      "Sample of invalid dates:\n",
      "     date\n",
      "0     NaT\n",
      "1     NaT\n",
      "2     NaT\n",
      "3     NaT\n",
      "4     NaT\n",
      "5     NaT\n",
      "6     NaT\n",
      "7     NaT\n",
      "8     NaT\n",
      "9     NaT\n",
      "1433  NaT\n",
      "1434  NaT\n",
      "1435  NaT\n",
      "1436  NaT\n",
      "1437  NaT\n",
      "1438  NaT\n",
      "1439  NaT\n",
      "1440  NaT\n",
      "1441  NaT\n",
      "1442  NaT\n"
     ]
    }
   ],
   "source": [
    "# Display a sample of the rows with invalid dates\n",
    "print(\"Sample of invalid dates:\")\n",
    "print(invalid_dates[['date']].head(20))\n"
   ]
  },
  {
   "cell_type": "code",
   "execution_count": 23,
   "metadata": {},
   "outputs": [
    {
     "name": "stdout",
     "output_type": "stream",
     "text": [
      "Total rows: 1407328\n",
      "Invalid dates: 55987 (3.98%)\n"
     ]
    }
   ],
   "source": [
    "total_rows = raw_analyst_ratings.shape[0]\n",
    "invalid_dates_count = raw_analyst_ratings['date'].isna().sum()\n",
    "invalid_date_percentage = (invalid_dates_count / total_rows) * 100\n",
    "\n",
    "print(f\"Total rows: {total_rows}\")\n",
    "print(f\"Invalid dates: {invalid_dates_count} ({invalid_date_percentage:.2f}%)\")\n"
   ]
  },
  {
   "cell_type": "code",
   "execution_count": 24,
   "metadata": {},
   "outputs": [
    {
     "name": "stdout",
     "output_type": "stream",
     "text": [
      "Dataset after dropping invalid dates: (1351341, 8)\n"
     ]
    }
   ],
   "source": [
    "# Drop rows with NaT values in the 'date' column\n",
    "raw_analyst_ratings = raw_analyst_ratings.dropna(subset=['date'])\n",
    "\n",
    "# Verify the new shape of the dataset\n",
    "print(f\"Dataset after dropping invalid dates: {raw_analyst_ratings.shape}\")\n"
   ]
  },
  {
   "cell_type": "code",
   "execution_count": 25,
   "metadata": {},
   "outputs": [
    {
     "name": "stdout",
     "output_type": "stream",
     "text": [
      "Number of invalid dates: 0\n"
     ]
    }
   ],
   "source": [
    "invalid_dates = raw_analyst_ratings[raw_analyst_ratings['date'].isna()]\n",
    "print(f\"Number of invalid dates: {len(invalid_dates)}\")\n"
   ]
  },
  {
   "cell_type": "code",
   "execution_count": 26,
   "metadata": {},
   "outputs": [
    {
     "name": "stdout",
     "output_type": "stream",
     "text": [
      "\n",
      "Publication Date Range:\n",
      "2009-02-14 00:00:00 to 2020-06-03 00:00:00\n"
     ]
    }
   ],
   "source": [
    "# Check for the earliest and latest publication dates\n",
    "print(\"\\nPublication Date Range:\")\n",
    "print(raw_analyst_ratings['date'].min(), \"to\", raw_analyst_ratings['date'].max())"
   ]
  },
  {
   "cell_type": "markdown",
   "metadata": {},
   "source": [
    "### Publication Frequency Over Time"
   ]
  },
  {
   "cell_type": "code",
   "execution_count": null,
   "metadata": {},
   "outputs": [],
   "source": []
  },
  {
   "cell_type": "markdown",
   "metadata": {},
   "source": [
    "## Link Sentiment with Stock Prrice"
   ]
  },
  {
   "cell_type": "markdown",
   "metadata": {},
   "source": []
  }
 ],
 "metadata": {
  "kernelspec": {
   "display_name": "myenv",
   "language": "python",
   "name": "python3"
  },
  "language_info": {
   "codemirror_mode": {
    "name": "ipython",
    "version": 3
   },
   "file_extension": ".py",
   "mimetype": "text/x-python",
   "name": "python",
   "nbconvert_exporter": "python",
   "pygments_lexer": "ipython3",
   "version": "3.12.6"
  }
 },
 "nbformat": 4,
 "nbformat_minor": 2
}
