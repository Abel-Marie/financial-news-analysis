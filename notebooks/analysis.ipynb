{
 "cells": [
  {
   "cell_type": "markdown",
   "metadata": {},
   "source": [
    "# Importing necessary libraries"
   ]
  },
  {
   "cell_type": "code",
   "execution_count": 3,
   "metadata": {},
   "outputs": [],
   "source": [
    "# for data manipulation\n",
    "import pandas as pd\n",
    "\n",
    "# For visualization\n",
    "#import matplotlib.pyplot as pyplot\n",
    "#import seaborn as sns\n",
    "\n",
    "# for date/time manipulationimport datetime\n",
    "\n",
    "#fot nlp\n",
    "import nltk\n",
    "from nltk.sentiment import SentimentIntensityAnalyzer\n",
    "from nltk.tokenize import word_tokenize\n",
    "from nltk.corpus import stopwords\n",
    "from nltk.stem import PorterStemmer\n",
    "\n",
    "# for numerical analysis\n",
    "import numpy"
   ]
  },
  {
   "cell_type": "markdown",
   "metadata": {},
   "source": [
    "Loading Data"
   ]
  },
  {
   "cell_type": "code",
   "execution_count": 10,
   "metadata": {},
   "outputs": [
    {
     "name": "stdout",
     "output_type": "stream",
     "text": [
      "Loading raw analyst ratings from: C:\\Users\\HP\\Desktop\\week - 1\\Data\\raw_analyst_ratings\\raw_analyst_ratings.csv\n",
      "Loaded stock data keys: dict_keys([])\n",
      "\n",
      "Raw Analyst Ratings DataFrame Info:\n",
      "<class 'pandas.core.frame.DataFrame'>\n",
      "RangeIndex: 1407328 entries, 0 to 1407327\n",
      "Data columns (total 6 columns):\n",
      " #   Column      Non-Null Count    Dtype \n",
      "---  ------      --------------    ----- \n",
      " 0   Unnamed: 0  1407328 non-null  int64 \n",
      " 1   headline    1407328 non-null  object\n",
      " 2   url         1407328 non-null  object\n",
      " 3   publisher   1407328 non-null  object\n",
      " 4   date        1407328 non-null  object\n",
      " 5   stock       1407328 non-null  object\n",
      "dtypes: int64(1), object(5)\n",
      "memory usage: 64.4+ MB\n",
      "None\n",
      "\n",
      "Raw Analyst Ratings Shape:\n",
      "(1407328, 6)\n",
      "\n",
      "First few rows of Raw Analyst Ratings:\n",
      "   Unnamed: 0                                           headline  \\\n",
      "0           0            Stocks That Hit 52-Week Highs On Friday   \n",
      "1           1         Stocks That Hit 52-Week Highs On Wednesday   \n",
      "2           2                      71 Biggest Movers From Friday   \n",
      "3           3       46 Stocks Moving In Friday's Mid-Day Session   \n",
      "4           4  B of A Securities Maintains Neutral on Agilent...   \n",
      "\n",
      "                                                 url          publisher  \\\n",
      "0  https://www.benzinga.com/news/20/06/16190091/s...  Benzinga Insights   \n",
      "1  https://www.benzinga.com/news/20/06/16170189/s...  Benzinga Insights   \n",
      "2  https://www.benzinga.com/news/20/05/16103463/7...         Lisa Levin   \n",
      "3  https://www.benzinga.com/news/20/05/16095921/4...         Lisa Levin   \n",
      "4  https://www.benzinga.com/news/20/05/16095304/b...         Vick Meyer   \n",
      "\n",
      "                        date stock  \n",
      "0  2020-06-05 10:30:54-04:00     A  \n",
      "1  2020-06-03 10:45:20-04:00     A  \n",
      "2  2020-05-26 04:30:07-04:00     A  \n",
      "3  2020-05-22 12:45:06-04:00     A  \n",
      "4  2020-05-22 11:38:59-04:00     A  \n"
     ]
    }
   ],
   "source": [
    "import os\n",
    "import pandas as pd\n",
    "\n",
    "def load_data():\n",
    "    \"\"\"\n",
    "    Load all data files from the 'yfinance_data' and 'raw_analyst_ratings' folders.\n",
    "    \n",
    "    Returns:\n",
    "        stock_data (dict): A dictionary containing stock data DataFrames.\n",
    "        raw_analyst_ratings (pd.DataFrame): DataFrame containing raw analyst ratings.\n",
    "    \"\"\"\n",
    "    # Define the paths\n",
    "    yfinance_folder = r'C:\\Users\\HP\\Desktop\\week - 1\\Data\\yfinance_data'\n",
    "    analyst_ratings_file = r'C:\\Users\\HP\\Desktop\\week - 1\\Data\\raw_analyst_ratings\\raw_analyst_ratings.csv'\n",
    "    \n",
    "    # Initialize a dictionary to store stock DataFrames\n",
    "    stock_data = {}\n",
    "    raw_analyst_ratings = None\n",
    "    \n",
    "    # Load yfinance data files\n",
    "    if os.path.exists(yfinance_folder):\n",
    "        yfinance_files = [f for f in os.listdir(yfinance_folder) if f.endswith('.csv')]\n",
    "        for file in yfinance_files:\n",
    "            file_path = os.path.join(yfinance_folder, file)\n",
    "            stock_name = os.path.splitext(file)[0]  # Extract stock name without extension\n",
    "            print(f\"Loading file: {file} as stock: {stock_name}\")\n",
    "            stock_data[stock_name] = pd.read_csv(file_path)\n",
    "    \n",
    "    # Load raw analyst ratings file\n",
    "    if os.path.exists(analyst_ratings_file):\n",
    "        print(f\"Loading raw analyst ratings from: {analyst_ratings_file}\")\n",
    "        raw_analyst_ratings = pd.read_csv(analyst_ratings_file)\n",
    "    \n",
    "    return stock_data, raw_analyst_ratings\n",
    "\n",
    "# Call the function to load the data\n",
    "stock_data, raw_analyst_ratings = load_data()\n",
    "\n",
    "# Debug: Print available stock data keys\n",
    "print(\"Loaded stock data keys:\", stock_data.keys())\n",
    "\n",
    "# Access and check raw analyst ratings\n",
    "if raw_analyst_ratings is not None:\n",
    "    print(\"\\nRaw Analyst Ratings DataFrame Info:\")\n",
    "    print(raw_analyst_ratings.info())\n",
    "\n",
    "    print(\"\\nRaw Analyst Ratings Shape:\")\n",
    "    print(raw_analyst_ratings.shape)\n",
    "\n",
    "    print(\"\\nFirst few rows of Raw Analyst Ratings:\")\n",
    "    print(raw_analyst_ratings.head())\n"
   ]
  },
  {
   "cell_type": "code",
   "execution_count": null,
   "metadata": {},
   "outputs": [
    {
     "ename": "NameError",
     "evalue": "name 'raw_analyst_ratings' is not defined",
     "output_type": "error",
     "traceback": [
      "\u001b[1;31m---------------------------------------------------------------------------\u001b[0m",
      "\u001b[1;31mNameError\u001b[0m                                 Traceback (most recent call last)",
      "Cell \u001b[1;32mIn[9], line 1\u001b[0m\n\u001b[1;32m----> 1\u001b[0m \u001b[43mraw_analyst_ratings\u001b[49m\u001b[38;5;241m.\u001b[39mshape()\n",
      "\u001b[1;31mNameError\u001b[0m: name 'raw_analyst_ratings' is not defined"
     ]
    }
   ],
   "source": [
    "# Check the shape of the DataFrame\n",
    "print(\"Shape of raw_analyst_ratings:\")\n",
    "print(data['raw_analyst_ratings'].shape)\n",
    "\n"
   ]
  },
  {
   "cell_type": "code",
   "execution_count": null,
   "metadata": {},
   "outputs": [],
   "source": [
    "raw_analyist.column"
   ]
  },
  {
   "cell_type": "code",
   "execution_count": null,
   "metadata": {},
   "outputs": [],
   "source": [
    "raw_analyist.info"
   ]
  },
  {
   "cell_type": "code",
   "execution_count": null,
   "metadata": {},
   "outputs": [],
   "source": [
    "raw_analyist.describe"
   ]
  },
  {
   "cell_type": "code",
   "execution_count": null,
   "metadata": {},
   "outputs": [],
   "source": [
    "yfinance_data.shape"
   ]
  },
  {
   "cell_type": "code",
   "execution_count": null,
   "metadata": {},
   "outputs": [],
   "source": [
    "yfinance_data.columns"
   ]
  },
  {
   "cell_type": "code",
   "execution_count": null,
   "metadata": {},
   "outputs": [],
   "source": [
    "yfinance_data.info"
   ]
  },
  {
   "cell_type": "code",
   "execution_count": null,
   "metadata": {},
   "outputs": [],
   "source": [
    "yfinance_data.describe"
   ]
  },
  {
   "cell_type": "code",
   "execution_count": null,
   "metadata": {},
   "outputs": [],
   "source": []
  },
  {
   "cell_type": "markdown",
   "metadata": {},
   "source": [
    "# EDA"
   ]
  },
  {
   "cell_type": "markdown",
   "metadata": {},
   "source": [
    "## Descriptive Statistics"
   ]
  },
  {
   "cell_type": "markdown",
   "metadata": {},
   "source": [
    "### Text Length Analysi:"
   ]
  },
  {
   "cell_type": "code",
   "execution_count": null,
   "metadata": {},
   "outputs": [],
   "source": []
  },
  {
   "cell_type": "markdown",
   "metadata": {},
   "source": [
    "### Publisher Frequency"
   ]
  },
  {
   "cell_type": "code",
   "execution_count": null,
   "metadata": {},
   "outputs": [],
   "source": []
  },
  {
   "cell_type": "markdown",
   "metadata": {},
   "source": [
    "### Publication Date Analysis"
   ]
  },
  {
   "cell_type": "code",
   "execution_count": null,
   "metadata": {},
   "outputs": [],
   "source": []
  },
  {
   "cell_type": "markdown",
   "metadata": {},
   "source": [
    "## Text Analysis (Sentiment Analysis)"
   ]
  },
  {
   "cell_type": "code",
   "execution_count": null,
   "metadata": {},
   "outputs": [],
   "source": []
  },
  {
   "cell_type": "markdown",
   "metadata": {},
   "source": [
    "## Time Series Analysis"
   ]
  },
  {
   "cell_type": "markdown",
   "metadata": {},
   "source": [
    "### Publication Frequency Over Time"
   ]
  },
  {
   "cell_type": "code",
   "execution_count": null,
   "metadata": {},
   "outputs": [],
   "source": []
  },
  {
   "cell_type": "markdown",
   "metadata": {},
   "source": [
    "## Link Sentiment with Stock Prrice"
   ]
  },
  {
   "cell_type": "markdown",
   "metadata": {},
   "source": []
  }
 ],
 "metadata": {
  "kernelspec": {
   "display_name": "myenv",
   "language": "python",
   "name": "python3"
  },
  "language_info": {
   "codemirror_mode": {
    "name": "ipython",
    "version": 3
   },
   "file_extension": ".py",
   "mimetype": "text/x-python",
   "name": "python",
   "nbconvert_exporter": "python",
   "pygments_lexer": "ipython3",
   "version": "3.12.6"
  }
 },
 "nbformat": 4,
 "nbformat_minor": 2
}
